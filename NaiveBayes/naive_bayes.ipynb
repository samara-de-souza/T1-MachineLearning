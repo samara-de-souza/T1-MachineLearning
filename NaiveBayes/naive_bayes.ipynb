{
  "cells": [
    {
      "cell_type": "markdown",
      "metadata": {},
      "source": [
        "# Naïve Bayes – Previsão de Evasão e Sucesso Acadêmico\n",
        "\n",
        "Este notebook treina e avalia um classificador **Gaussian Naïve Bayes** usando os dados já pré-processados (40 features numéricas + coluna‐alvo). Também traz estatísticas que ajudam a interpretar o modelo.\n",
        "\n",
        "> Dataset: *Predict Students' Dropout and Academic Success* – UCI ML Repository\n",
        "\n"
      ]
    },
    {
      "cell_type": "code",
      "execution_count": 9,
      "metadata": {},
      "outputs": [],
      "source": [
        "import numpy as np\n",
        "import pandas as pd\n",
        "from pathlib import Path\n",
        "\n",
        "import matplotlib.pyplot as plt\n",
        "from sklearn.metrics import (classification_report, confusion_matrix,\n",
        "                             accuracy_score, f1_score, balanced_accuracy_score)\n",
        "from sklearn.model_selection import (StratifiedKFold, RepeatedStratifiedKFold,\n",
        "                                     GridSearchCV, RandomizedSearchCV, cross_validate)\n",
        "from sklearn.naive_bayes import GaussianNB, CategoricalNB, ComplementNB\n",
        "from sklearn.calibration import CalibratedClassifierCV\n",
        "from sklearn.feature_selection import SelectKBest, f_classif, mutual_info_classif\n",
        "\n",
        "# Pipeline SEM vazamento + oversampling\n",
        "from imblearn.pipeline import Pipeline\n",
        "from imblearn.over_sampling import SMOTE  # troque para SMOTENC se tiver colunas categóricas identificáveis\n",
        "\n",
        "# Visual\n",
        "plt.rcParams[\"figure.figsize\"] = (10,8)\n",
        "np.set_printoptions(edgeitems=3, suppress=True)\n"
      ]
    },
    {
      "cell_type": "code",
      "execution_count": 10,
      "metadata": {},
      "outputs": [
        {
          "name": "stdout",
          "output_type": "stream",
          "text": [
            "Shapes: (5301, 40) (885, 40)\n",
            "Distribuição treino: {2: 1767, 0: 1767, 1: 1767}\n",
            "Distribuição teste : {2: 442, 0: 284, 1: 159}\n"
          ]
        }
      ],
      "source": [
        "def find_paths():\n",
        "    candidates = [\n",
        "        (Path(\"./train.csv\"), Path(\"./test.csv\")),\n",
        "        (Path(\"../Data/train.csv\"), Path(\"../Data/test.csv\")),\n",
        "        (Path(\"/mnt/data/train.csv\"), Path(\"/mnt/data/test.csv\")),\n",
        "    ]\n",
        "    for tr, te in candidates:\n",
        "        if tr.exists() and te.exists():\n",
        "            return tr, te\n",
        "    raise FileNotFoundError(\"Não encontrei train.csv/test.csv. Ajuste os caminhos na célula 2.\")\n",
        "\n",
        "train_path, test_path = find_paths()\n",
        "train_df = pd.read_csv(train_path)\n",
        "test_df  = pd.read_csv(test_path)\n",
        "\n",
        "TARGET_COL = \"Target\"  # ajuste se o nome for diferente\n",
        "X_train = train_df.drop(columns=[TARGET_COL])\n",
        "y_train = train_df[TARGET_COL]\n",
        "X_test  = test_df.drop(columns=[TARGET_COL])\n",
        "y_test  = test_df[TARGET_COL]\n",
        "\n",
        "print(\"Shapes:\", X_train.shape, X_test.shape)\n",
        "print(\"Distribuição treino:\", y_train.value_counts().to_dict())\n",
        "print(\"Distribuição teste :\", y_test.value_counts().to_dict())\n"
      ]
    },
    {
      "cell_type": "code",
      "execution_count": 11,
      "metadata": {},
      "outputs": [],
      "source": [
        "def eval_and_print(y_true, y_pred, title=\"\"):\n",
        "    acc   = accuracy_score(y_true, y_pred)\n",
        "    f1m   = f1_score(y_true, y_pred, average=\"macro\")\n",
        "    balc  = balanced_accuracy_score(y_true, y_pred)\n",
        "    print(f\"\\n=== {title} ===\")\n",
        "    print(f\"Accuracy       : {acc:.4f}\")\n",
        "    print(f\"F1-macro       : {f1m:.4f}\")\n",
        "    print(f\"Balanced Acc   : {balc:.4f}\")\n",
        "    print(\"\\nClassification Report:\")\n",
        "    print(classification_report(y_true, y_pred, digits=4))\n",
        "    print(\"Confusion Matrix:\")\n",
        "    print(confusion_matrix(y_true, y_pred))\n",
        "    return {\"model\": title, \"accuracy\": acc, \"f1_macro\": f1m, \"bal_acc\": balc}\n",
        "\n",
        "results = []\n"
      ]
    },
    {
      "cell_type": "code",
      "execution_count": 12,
      "metadata": {},
      "outputs": [
        {
          "name": "stdout",
          "output_type": "stream",
          "text": [
            "Fitting 5 folds for each of 12 candidates, totalling 60 fits\n",
            "Melhor var_smoothing: 0.0001\n",
            "F1-macro (CV): 0.6673103113852894\n",
            "\n",
            "=== GaussianNB (GridSearch, vs=1.00e-04) ===\n",
            "Accuracy       : 0.6520\n",
            "F1-macro       : 0.6090\n",
            "Balanced Acc   : 0.6147\n",
            "\n",
            "Classification Report:\n",
            "              precision    recall  f1-score   support\n",
            "\n",
            "           0     0.7203    0.6620    0.6899       284\n",
            "           1     0.3289    0.4717    0.3876       159\n",
            "           2     0.7929    0.7104    0.7494       442\n",
            "\n",
            "    accuracy                         0.6520       885\n",
            "   macro avg     0.6141    0.6147    0.6090       885\n",
            "weighted avg     0.6863    0.6520    0.6653       885\n",
            "\n",
            "Confusion Matrix:\n",
            "[[188  61  35]\n",
            " [ 37  75  47]\n",
            " [ 36  92 314]]\n"
          ]
        }
      ],
      "source": [
        "param_grid = {\"var_smoothing\": np.logspace(-12, -1, 12)}\n",
        "cv = StratifiedKFold(n_splits=5, shuffle=True, random_state=42)\n",
        "\n",
        "gs = GridSearchCV(\n",
        "    estimator=GaussianNB(),\n",
        "    param_grid=param_grid,\n",
        "    scoring=\"f1_macro\",\n",
        "    cv=cv,\n",
        "    n_jobs=-1,\n",
        "    verbose=1\n",
        ")\n",
        "gs.fit(X_train, y_train)\n",
        "\n",
        "print(\"Melhor var_smoothing:\", gs.best_params_[\"var_smoothing\"])\n",
        "print(\"F1-macro (CV):\", gs.best_score_)\n",
        "\n",
        "nb_gs = gs.best_estimator_\n",
        "y_pred_gs = nb_gs.predict(X_test)\n",
        "results.append(eval_and_print(y_test, y_pred_gs, f\"GaussianNB (GridSearch, vs={gs.best_params_['var_smoothing']:.2e})\"))\n"
      ]
    },
    {
      "cell_type": "code",
      "execution_count": 13,
      "metadata": {},
      "outputs": [
        {
          "name": "stdout",
          "output_type": "stream",
          "text": [
            "=== CV (Pipeline[SMOTE->GaussianNB]) ===\n",
            "accuracy  : 0.6689 ± 0.0140\n",
            "f1_macro  : 0.6693 ± 0.0140\n",
            "bal_acc   : 0.6689 ± 0.0140\n",
            "\n",
            "=== Pipeline[SMOTE->GaussianNB] (hold-out) ===\n",
            "Accuracy       : 0.6520\n",
            "F1-macro       : 0.6090\n",
            "Balanced Acc   : 0.6147\n",
            "\n",
            "Classification Report:\n",
            "              precision    recall  f1-score   support\n",
            "\n",
            "           0     0.7203    0.6620    0.6899       284\n",
            "           1     0.3289    0.4717    0.3876       159\n",
            "           2     0.7929    0.7104    0.7494       442\n",
            "\n",
            "    accuracy                         0.6520       885\n",
            "   macro avg     0.6141    0.6147    0.6090       885\n",
            "weighted avg     0.6863    0.6520    0.6653       885\n",
            "\n",
            "Confusion Matrix:\n",
            "[[188  61  35]\n",
            " [ 37  75  47]\n",
            " [ 36  92 314]]\n"
          ]
        },
        {
          "name": "stderr",
          "output_type": "stream",
          "text": [
            "/Users/alicecestari/Library/Python/3.9/lib/python/site-packages/sklearn/base.py:474: FutureWarning: `BaseEstimator._validate_data` is deprecated in 1.6 and will be removed in 1.7. Use `sklearn.utils.validation.validate_data` instead. This function becomes public and is part of the scikit-learn developer API.\n",
            "  warnings.warn(\n",
            "/Users/alicecestari/Library/Python/3.9/lib/python/site-packages/sklearn/base.py:474: FutureWarning: `BaseEstimator._validate_data` is deprecated in 1.6 and will be removed in 1.7. Use `sklearn.utils.validation.validate_data` instead. This function becomes public and is part of the scikit-learn developer API.\n",
            "  warnings.warn(\n",
            "/Users/alicecestari/Library/Python/3.9/lib/python/site-packages/sklearn/base.py:474: FutureWarning: `BaseEstimator._validate_data` is deprecated in 1.6 and will be removed in 1.7. Use `sklearn.utils.validation.validate_data` instead. This function becomes public and is part of the scikit-learn developer API.\n",
            "  warnings.warn(\n",
            "/Users/alicecestari/Library/Python/3.9/lib/python/site-packages/sklearn/base.py:474: FutureWarning: `BaseEstimator._validate_data` is deprecated in 1.6 and will be removed in 1.7. Use `sklearn.utils.validation.validate_data` instead. This function becomes public and is part of the scikit-learn developer API.\n",
            "  warnings.warn(\n",
            "/Users/alicecestari/Library/Python/3.9/lib/python/site-packages/sklearn/base.py:474: FutureWarning: `BaseEstimator._validate_data` is deprecated in 1.6 and will be removed in 1.7. Use `sklearn.utils.validation.validate_data` instead. This function becomes public and is part of the scikit-learn developer API.\n",
            "  warnings.warn(\n",
            "/Users/alicecestari/Library/Python/3.9/lib/python/site-packages/sklearn/base.py:474: FutureWarning: `BaseEstimator._validate_data` is deprecated in 1.6 and will be removed in 1.7. Use `sklearn.utils.validation.validate_data` instead. This function becomes public and is part of the scikit-learn developer API.\n",
            "  warnings.warn(\n",
            "/Users/alicecestari/Library/Python/3.9/lib/python/site-packages/sklearn/base.py:474: FutureWarning: `BaseEstimator._validate_data` is deprecated in 1.6 and will be removed in 1.7. Use `sklearn.utils.validation.validate_data` instead. This function becomes public and is part of the scikit-learn developer API.\n",
            "  warnings.warn(\n",
            "/Users/alicecestari/Library/Python/3.9/lib/python/site-packages/sklearn/base.py:474: FutureWarning: `BaseEstimator._validate_data` is deprecated in 1.6 and will be removed in 1.7. Use `sklearn.utils.validation.validate_data` instead. This function becomes public and is part of the scikit-learn developer API.\n",
            "  warnings.warn(\n",
            "/Users/alicecestari/Library/Python/3.9/lib/python/site-packages/sklearn/base.py:474: FutureWarning: `BaseEstimator._validate_data` is deprecated in 1.6 and will be removed in 1.7. Use `sklearn.utils.validation.validate_data` instead. This function becomes public and is part of the scikit-learn developer API.\n",
            "  warnings.warn(\n",
            "/Users/alicecestari/Library/Python/3.9/lib/python/site-packages/sklearn/base.py:474: FutureWarning: `BaseEstimator._validate_data` is deprecated in 1.6 and will be removed in 1.7. Use `sklearn.utils.validation.validate_data` instead. This function becomes public and is part of the scikit-learn developer API.\n",
            "  warnings.warn(\n",
            "/Users/alicecestari/Library/Python/3.9/lib/python/site-packages/sklearn/base.py:474: FutureWarning: `BaseEstimator._validate_data` is deprecated in 1.6 and will be removed in 1.7. Use `sklearn.utils.validation.validate_data` instead. This function becomes public and is part of the scikit-learn developer API.\n",
            "  warnings.warn(\n",
            "/Users/alicecestari/Library/Python/3.9/lib/python/site-packages/sklearn/base.py:474: FutureWarning: `BaseEstimator._validate_data` is deprecated in 1.6 and will be removed in 1.7. Use `sklearn.utils.validation.validate_data` instead. This function becomes public and is part of the scikit-learn developer API.\n",
            "  warnings.warn(\n",
            "/Users/alicecestari/Library/Python/3.9/lib/python/site-packages/sklearn/base.py:474: FutureWarning: `BaseEstimator._validate_data` is deprecated in 1.6 and will be removed in 1.7. Use `sklearn.utils.validation.validate_data` instead. This function becomes public and is part of the scikit-learn developer API.\n",
            "  warnings.warn(\n",
            "/Users/alicecestari/Library/Python/3.9/lib/python/site-packages/sklearn/base.py:474: FutureWarning: `BaseEstimator._validate_data` is deprecated in 1.6 and will be removed in 1.7. Use `sklearn.utils.validation.validate_data` instead. This function becomes public and is part of the scikit-learn developer API.\n",
            "  warnings.warn(\n",
            "/Users/alicecestari/Library/Python/3.9/lib/python/site-packages/sklearn/base.py:474: FutureWarning: `BaseEstimator._validate_data` is deprecated in 1.6 and will be removed in 1.7. Use `sklearn.utils.validation.validate_data` instead. This function becomes public and is part of the scikit-learn developer API.\n",
            "  warnings.warn(\n",
            "/Users/alicecestari/Library/Python/3.9/lib/python/site-packages/sklearn/base.py:474: FutureWarning: `BaseEstimator._validate_data` is deprecated in 1.6 and will be removed in 1.7. Use `sklearn.utils.validation.validate_data` instead. This function becomes public and is part of the scikit-learn developer API.\n",
            "  warnings.warn(\n"
          ]
        }
      ],
      "source": [
        "pipe_nb = Pipeline(steps=[\n",
        "    (\"smote\", SMOTE(random_state=42)),\n",
        "    (\"nb\", GaussianNB(var_smoothing=gs.best_params_[\"var_smoothing\"]))\n",
        "])\n",
        "\n",
        "rskf = RepeatedStratifiedKFold(n_splits=5, n_repeats=3, random_state=42)\n",
        "scoring = {\"accuracy\": \"accuracy\", \"f1_macro\": \"f1_macro\", \"bal_acc\": \"balanced_accuracy\"}\n",
        "\n",
        "cv_res = cross_validate(pipe_nb, X_train, y_train, cv=rskf, scoring=scoring, n_jobs=-1)\n",
        "print(\"=== CV (Pipeline[SMOTE->GaussianNB]) ===\")\n",
        "for k in [\"accuracy\",\"f1_macro\",\"bal_acc\"]:\n",
        "    vals = cv_res[f\"test_{k}\"]\n",
        "    print(f\"{k:10s}: {vals.mean():.4f} ± {vals.std():.4f}\")\n",
        "\n",
        "pipe_nb.fit(X_train, y_train)\n",
        "y_pred_pipe = pipe_nb.predict(X_test)\n",
        "results.append(eval_and_print(y_test, y_pred_pipe, \"Pipeline[SMOTE->GaussianNB] (hold-out)\"))\n"
      ]
    },
    {
      "cell_type": "markdown",
      "metadata": {},
      "source": [
        "### Resumo dos resultados"
      ]
    },
    {
      "cell_type": "code",
      "execution_count": null,
      "metadata": {},
      "outputs": [
        {
          "data": {
            "text/html": [
              "<div>\n",
              "<style scoped>\n",
              "    .dataframe tbody tr th:only-of-type {\n",
              "        vertical-align: middle;\n",
              "    }\n",
              "\n",
              "    .dataframe tbody tr th {\n",
              "        vertical-align: top;\n",
              "    }\n",
              "\n",
              "    .dataframe thead th {\n",
              "        text-align: right;\n",
              "    }\n",
              "</style>\n",
              "<table border=\"1\" class=\"dataframe\">\n",
              "  <thead>\n",
              "    <tr style=\"text-align: right;\">\n",
              "      <th></th>\n",
              "      <th>model</th>\n",
              "      <th>accuracy</th>\n",
              "      <th>f1_macro</th>\n",
              "      <th>bal_acc</th>\n",
              "    </tr>\n",
              "  </thead>\n",
              "  <tbody>\n",
              "    <tr>\n",
              "      <th>0</th>\n",
              "      <td>GaussianNB (GridSearch, vs=1.00e-04)</td>\n",
              "      <td>0.651977</td>\n",
              "      <td>0.608969</td>\n",
              "      <td>0.614692</td>\n",
              "    </tr>\n",
              "    <tr>\n",
              "      <th>1</th>\n",
              "      <td>Pipeline[SMOTE-&gt;GaussianNB] (hold-out)</td>\n",
              "      <td>0.651977</td>\n",
              "      <td>0.608969</td>\n",
              "      <td>0.614692</td>\n",
              "    </tr>\n",
              "  </tbody>\n",
              "</table>\n",
              "</div>"
            ],
            "text/plain": [
              "                                    model  accuracy  f1_macro   bal_acc\n",
              "0    GaussianNB (GridSearch, vs=1.00e-04)  0.651977  0.608969  0.614692\n",
              "1  Pipeline[SMOTE->GaussianNB] (hold-out)  0.651977  0.608969  0.614692"
            ]
          },
          "execution_count": 7,
          "metadata": {},
          "output_type": "execute_result"
        }
      ],
      "source": [
        "# Tabela final sem entradas duplicadas\n",
        "clean_res_df = pd.DataFrame(results).drop_duplicates().sort_values(\n",
        "    by=[\"f1_macro\", \"bal_acc\"], ascending=False\n",
        ").reset_index(drop=True)\n",
        "clean_res_df\n"
      ]
    },
    {
      "cell_type": "markdown",
      "metadata": {},
      "source": [
        "### Interpretabilidade — Naïve Bayes\n",
        "Nesta seção analisamos as probabilidades condicionais e como influenciam as previsões do Gaussian Naïve Bayes.\n"
      ]
    },
    {
      "cell_type": "markdown",
      "metadata": {},
      "source": [
        "#### Priors e Probabilidades Condicionais (θ e σ²)\n",
        "O modelo armazena, para cada classe k e feature j:\n",
        "- θ(k,j): média por classe\n",
        "- σ²(k,j): variância por classe\n",
        "A verossimilhança é Gaussiana; quanto maior a distância entre médias, medida em desvios-padrão, maior o impacto da feature na probabilidade posterior.\n"
      ]
    },
    {
      "cell_type": "code",
      "execution_count": 14,
      "metadata": {},
      "outputs": [
        {
          "name": "stdout",
          "output_type": "stream",
          "text": [
            "Classes: [0 1 2]\n",
            "Priors: [0.33333333 0.33333333 0.33333333]\n"
          ]
        },
        {
          "data": {
            "text/plain": [
              "Curricular units 2nd sem (approved)       1.861566\n",
              "Curricular units 2nd sem (grade)          1.582070\n",
              "Curricular units 1st sem (approved)       1.466146\n",
              "Curricular units 1st sem (grade)          1.253457\n",
              "Tuition fees up to date_1                 0.803259\n",
              "Gender_1                                  0.670388\n",
              "Debtor_1                                  0.618814\n",
              "Scholarship holder_1                      0.595618\n",
              "Age at enrollment                         0.554966\n",
              "Application mode                          0.517059\n",
              "Curricular units 2nd sem (enrolled)       0.425648\n",
              "Curricular units 1st sem (enrolled)       0.381028\n",
              "Marital status_2                          0.296438\n",
              "Application order                         0.295044\n",
              "Curricular units 2nd sem (evaluations)    0.280567\n",
              "dtype: float64"
            ]
          },
          "metadata": {},
          "output_type": "display_data"
        },
        {
          "data": {
            "image/png": "[encoded data removed]",
            "text/plain": [
              "<Figure size 1000x800 with 1 Axes>"
            ]
          },
          "metadata": {},
          "output_type": "display_data"
        }
      ],
      "source": [
        "nb_view = nb_gs  # usa o modelo do GridSearch para inspecionar parâmetros\n",
        "print(\"Classes:\", nb_view.classes_)\n",
        "print(\"Priors:\", nb_view.class_prior_)\n",
        "\n",
        "means = pd.DataFrame(nb_view.theta_, index=nb_view.classes_, columns=X_train.columns)\n",
        "vars_  = pd.DataFrame(nb_view.var_,   index=nb_view.classes_, columns=X_train.columns)\n",
        "\n",
        "if 0 in means.index and 2 in means.index:\n",
        "    diff = (means.loc[2] - means.loc[0]).abs()\n",
        "    pooled_sigma = np.sqrt(vars_.mean())\n",
        "    importance = (diff / pooled_sigma).sort_values(ascending=False)\n",
        "    display(importance.head(15))\n",
        "    importance.head(15).plot(kind=\"bar\", title=\"Top 15 features mais discriminantes (|μ₂−μ₀|/σ)\")\n",
        "    plt.tight_layout(); plt.show()\n",
        "else:\n",
        "    print(\"Ajuste o par de classes para o ranking (ex.: 0 vs 2).\")\n"
      ]
    },
    {
      "cell_type": "markdown",
      "metadata": {},
      "source": [
        "Interpretando o ranking |μ₂−μ₀|/σ:\n",
        "- Valores altos indicam features que mais deslocam a densidade para as classes “Graduate (2)” vs “Dropout (0)”.\n",
        "- Vemos “Curricular units (2nd sem/1st sem)” e “Tuition fees up to date_1” no topo, coerente com desempenho recente e adimplência.\n"
      ]
    },
    {
      "cell_type": "markdown",
      "metadata": {},
      "source": [
        "#### Análise\n",
        "- As features de desempenho curricular (aprovadas/notas 1º-2º sem) dominam o ranking, seguidas por variáveis administrativas (adimplência, devedor).\n",
        "\n",
        "- Isso explica por que exemplos com boas notas/aprovações têm maior verossimilhança para “Graduate”.\n",
        "\n",
        "- Limitação: NB assume independência condicional entre features; correlações podem inflar/sobrepor contribuições.\n"
      ]
    }
  ],
  "metadata": {
    "kernelspec": {
      "display_name": "base",
      "language": "python",
      "name": "python3"
    },
    "language_info": {
      "codemirror_mode": {
        "name": "ipython",
        "version": 3
      },
      "file_extension": ".py",
      "mimetype": "text/x-python",
      "name": "python",
      "nbconvert_exporter": "python",
      "pygments_lexer": "ipython3",
      "version": "3.10.16"
    }
  },
  "nbformat": 4,
  "nbformat_minor": 2
}
